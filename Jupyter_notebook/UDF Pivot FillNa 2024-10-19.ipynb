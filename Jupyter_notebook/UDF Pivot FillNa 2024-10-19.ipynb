{
 "cells": [
  {
   "cell_type": "code",
   "execution_count": 0,
   "metadata": {
    "application/vnd.databricks.v1+cell": {
     "cellMetadata": {
      "byteLimit": 2048000,
      "rowLimit": 10000
     },
     "inputWidgets": {},
     "nuid": "91f83d53-1586-4461-a756-47ce9e3c46e0",
     "showTitle": false,
     "tableResultSettingsMap": {},
     "title": ""
    }
   },
   "outputs": [
    {
     "output_type": "execute_result",
     "data": {
      "text/html": [
       "\n",
       "            <div>\n",
       "                <p><b>SparkSession - hive</b></p>\n",
       "                \n",
       "        <div>\n",
       "            <p><b>SparkContext</b></p>\n",
       "\n",
       "            <p><a href=\"/?o=5376419441612485#setting/sparkui/1019-055316-5uuouoyb/driver-1680094474464326796\">Spark UI</a></p>\n",
       "\n",
       "            <dl>\n",
       "              <dt>Version</dt>\n",
       "                <dd><code>v3.5.0</code></dd>\n",
       "              <dt>Master</dt>\n",
       "                <dd><code>local[8]</code></dd>\n",
       "              <dt>AppName</dt>\n",
       "                <dd><code>Databricks Shell</code></dd>\n",
       "            </dl>\n",
       "        </div>\n",
       "        \n",
       "            </div>\n",
       "        "
      ],
      "text/plain": [
       "<pyspark.sql.session.SparkSession at 0x7f2fc527fbd0>"
      ]
     },
     "execution_count": 1,
     "metadata": {},
     "output_type": "execute_result"
    }
   ],
   "source": [
    "spark"
   ]
  },
  {
   "cell_type": "code",
   "execution_count": 0,
   "metadata": {
    "application/vnd.databricks.v1+cell": {
     "cellMetadata": {
      "byteLimit": 2048000,
      "rowLimit": 10000
     },
     "inputWidgets": {},
     "nuid": "97351f6e-584f-462d-a2b5-17dd255965d1",
     "showTitle": false,
     "tableResultSettingsMap": {},
     "title": ""
    }
   },
   "outputs": [
    {
     "output_type": "stream",
     "name": "stdout",
     "output_type": "stream",
     "text": [
      "root\n |-- employee_name: string (nullable = true)\n |-- department: string (nullable = true)\n |-- salary: long (nullable = true)\n\n+-------------+----------+------+\n|employee_name|department|salary|\n+-------------+----------+------+\n|James        |Sales     |3000  |\n|Michael      |Sales     |4600  |\n|Robert       |Sales     |4100  |\n|Maria        |Finance   |3000  |\n|James        |Sales     |3000  |\n|Scott        |Finance   |3300  |\n|Jen          |Finance   |3900  |\n|Jeff         |Marketing |3000  |\n|Kumar        |Marketing |2000  |\n|Saif         |Sales     |4100  |\n+-------------+----------+------+\n\n"
     ]
    }
   ],
   "source": [
    "simpleData = ((\"James\", \"Sales\", 3000), \\\n",
    "    (\"Michael\", \"Sales\", 4600),  \\\n",
    "    (\"Robert\", \"Sales\", 4100),   \\\n",
    "    (\"Maria\", \"Finance\", 3000),  \\\n",
    "    (\"James\", \"Sales\", 3000),    \\\n",
    "    (\"Scott\", \"Finance\", 3300),  \\\n",
    "    (\"Jen\", \"Finance\", 3900),    \\\n",
    "    (\"Jeff\", \"Marketing\", 3000), \\\n",
    "    (\"Kumar\", \"Marketing\", 2000),\\\n",
    "    (\"Saif\", \"Sales\", 4100) \\\n",
    "  )\n",
    " \n",
    "columns= [\"employee_name\", \"department\", \"salary\"]\n",
    "\n",
    "df = spark.createDataFrame(data = simpleData, schema = columns)\n",
    "\n",
    "df.printSchema()\n",
    "df.show(truncate=False)"
   ]
  },
  {
   "cell_type": "code",
   "execution_count": 0,
   "metadata": {
    "application/vnd.databricks.v1+cell": {
     "cellMetadata": {
      "byteLimit": 2048000,
      "rowLimit": 10000
     },
     "inputWidgets": {},
     "nuid": "db1d570c-6b2c-47a5-b9aa-5ba350a66e02",
     "showTitle": false,
     "tableResultSettingsMap": {},
     "title": ""
    }
   },
   "outputs": [],
   "source": [
    "from pyspark.sql.functions import col,when,upper,lower"
   ]
  },
  {
   "cell_type": "code",
   "execution_count": 0,
   "metadata": {
    "application/vnd.databricks.v1+cell": {
     "cellMetadata": {
      "byteLimit": 2048000,
      "rowLimit": 10000
     },
     "inputWidgets": {},
     "nuid": "e88b971c-4180-48df-97a0-cb968e34d46d",
     "showTitle": false,
     "tableResultSettingsMap": {},
     "title": ""
    }
   },
   "outputs": [
    {
     "output_type": "stream",
     "name": "stdout",
     "output_type": "stream",
     "text": [
      "+-------------+----------+------+----+\n|employee_name|department|salary|Flag|\n+-------------+----------+------+----+\n|        James|     Sales|  3000|   0|\n|      Michael|     Sales|  4600|   1|\n|       Robert|     Sales|  4100|   1|\n|        Maria|   Finance|  3000|   0|\n|        James|     Sales|  3000|   0|\n|        Scott|   Finance|  3300|   0|\n|          Jen|   Finance|  3900|   1|\n|         Jeff| Marketing|  3000|   0|\n|        Kumar| Marketing|  2000|   0|\n|         Saif|     Sales|  4100|   1|\n+-------------+----------+------+----+\n\n"
     ]
    }
   ],
   "source": [
    "df.withColumn('Flag',when(col('salary')>3500,1).otherwise(0)).show()"
   ]
  },
  {
   "cell_type": "code",
   "execution_count": 0,
   "metadata": {
    "application/vnd.databricks.v1+cell": {
     "cellMetadata": {
      "byteLimit": 2048000,
      "rowLimit": 10000
     },
     "inputWidgets": {},
     "nuid": "748a2dd2-1e84-485f-aa51-248c3f265973",
     "showTitle": false,
     "tableResultSettingsMap": {},
     "title": ""
    }
   },
   "outputs": [],
   "source": [
    "df_spark1=df.withColumn('Flag',when((col('department')=='Sales') & (col('salary')>3000),1).otherwise(0))"
   ]
  },
  {
   "cell_type": "code",
   "execution_count": 0,
   "metadata": {
    "application/vnd.databricks.v1+cell": {
     "cellMetadata": {
      "byteLimit": 2048000,
      "rowLimit": 10000
     },
     "inputWidgets": {},
     "nuid": "7229c711-7e56-4c03-af4e-9c205c1d17da",
     "showTitle": false,
     "tableResultSettingsMap": {},
     "title": ""
    }
   },
   "outputs": [
    {
     "output_type": "stream",
     "name": "stdout",
     "output_type": "stream",
     "text": [
      "+-------------+----------+------+----+\n|employee_name|department|salary|Flag|\n+-------------+----------+------+----+\n|        James|     Sales|  3000|   0|\n|      Michael|     Sales|  4600|   1|\n|       Robert|     Sales|  4100|   1|\n|        Maria|   Finance|  3000|   0|\n|        James|     Sales|  3000|   0|\n|        Scott|   Finance|  3300|   0|\n|          Jen|   Finance|  3900|   0|\n|         Jeff| Marketing|  3000|   0|\n|        Kumar| Marketing|  2000|   0|\n|         Saif|     Sales|  4100|   1|\n+-------------+----------+------+----+\n\n"
     ]
    }
   ],
   "source": [
    "df_spark1.show()"
   ]
  },
  {
   "cell_type": "code",
   "execution_count": 0,
   "metadata": {
    "application/vnd.databricks.v1+cell": {
     "cellMetadata": {
      "byteLimit": 2048000,
      "rowLimit": 10000
     },
     "inputWidgets": {},
     "nuid": "c88890a2-7750-46ba-917f-8aa898f5771d",
     "showTitle": false,
     "tableResultSettingsMap": {},
     "title": ""
    }
   },
   "outputs": [],
   "source": []
  },
  {
   "cell_type": "code",
   "execution_count": 0,
   "metadata": {
    "application/vnd.databricks.v1+cell": {
     "cellMetadata": {
      "byteLimit": 2048000,
      "rowLimit": 10000
     },
     "inputWidgets": {},
     "nuid": "9db79e7a-b0e1-4ef1-a9f3-16f7a1b6ab2d",
     "showTitle": false,
     "tableResultSettingsMap": {},
     "title": ""
    }
   },
   "outputs": [],
   "source": [
    "from pyspark.sql.functions import udf"
   ]
  },
  {
   "cell_type": "code",
   "execution_count": 0,
   "metadata": {
    "application/vnd.databricks.v1+cell": {
     "cellMetadata": {
      "byteLimit": 2048000,
      "rowLimit": 10000
     },
     "inputWidgets": {},
     "nuid": "3c9d9ede-20fe-461a-a4be-d9540e0a014c",
     "showTitle": false,
     "tableResultSettingsMap": {},
     "title": ""
    }
   },
   "outputs": [],
   "source": [
    "from pyspark.sql.types import IntegerType"
   ]
  },
  {
   "cell_type": "code",
   "execution_count": 0,
   "metadata": {
    "application/vnd.databricks.v1+cell": {
     "cellMetadata": {
      "byteLimit": 2048000,
      "rowLimit": 10000
     },
     "inputWidgets": {},
     "nuid": "0a0ae846-e58e-4930-962f-7edc3f3312d7",
     "showTitle": false,
     "tableResultSettingsMap": {},
     "title": ""
    }
   },
   "outputs": [],
   "source": [
    "@udf(returnType=IntegerType())\n",
    "def update_salary(a,b):\n",
    "    return a*b"
   ]
  },
  {
   "cell_type": "code",
   "execution_count": 0,
   "metadata": {
    "application/vnd.databricks.v1+cell": {
     "cellMetadata": {
      "byteLimit": 2048000,
      "rowLimit": 10000
     },
     "inputWidgets": {},
     "nuid": "ac112a21-3504-4c7c-a4b5-5d6acdd8e801",
     "showTitle": false,
     "tableResultSettingsMap": {},
     "title": ""
    }
   },
   "outputs": [
    {
     "output_type": "stream",
     "name": "stdout",
     "output_type": "stream",
     "text": [
      "+-------------+----------+------+----+-------+\n|employee_name|department|salary|Flag|new_sal|\n+-------------+----------+------+----+-------+\n|        James|     Sales|  3000|   0|      0|\n|      Michael|     Sales|  4600|   1|   4600|\n|       Robert|     Sales|  4100|   1|   4100|\n|        Maria|   Finance|  3000|   0|      0|\n|        James|     Sales|  3000|   0|      0|\n|        Scott|   Finance|  3300|   0|      0|\n|          Jen|   Finance|  3900|   0|      0|\n|         Jeff| Marketing|  3000|   0|      0|\n|        Kumar| Marketing|  2000|   0|      0|\n|         Saif|     Sales|  4100|   1|   4100|\n+-------------+----------+------+----+-------+\n\n"
     ]
    }
   ],
   "source": [
    "df_spark1.withColumn('new_sal',update_salary(col('salary'),col('flag'))).show()"
   ]
  },
  {
   "cell_type": "code",
   "execution_count": 0,
   "metadata": {
    "application/vnd.databricks.v1+cell": {
     "cellMetadata": {
      "byteLimit": 2048000,
      "rowLimit": 10000
     },
     "inputWidgets": {},
     "nuid": "280fcb9f-c9dd-414b-ba1a-e35791c0b5ae",
     "showTitle": false,
     "tableResultSettingsMap": {},
     "title": ""
    }
   },
   "outputs": [
    {
     "output_type": "stream",
     "name": "stdout",
     "output_type": "stream",
     "text": [
      "+-------------+----------+------+----+-------+\n|employee_name|department|salary|Flag|new_sal|\n+-------------+----------+------+----+-------+\n|        James|     Sales|  3000|   0|      0|\n|      Michael|     Sales|  4600|   1|   4600|\n|       Robert|     Sales|  4100|   1|   4100|\n|        Maria|   Finance|  3000|   0|      0|\n|        James|     Sales|  3000|   0|      0|\n|        Scott|   Finance|  3300|   0|      0|\n|          Jen|   Finance|  3900|   0|      0|\n|         Jeff| Marketing|  3000|   0|      0|\n|        Kumar| Marketing|  2000|   0|      0|\n|         Saif|     Sales|  4100|   1|   4100|\n+-------------+----------+------+----+-------+\n\n"
     ]
    }
   ],
   "source": [
    "df_spark1.select('*',update_salary(col('salary'),col('flag')).alias('new_sal')).show()"
   ]
  },
  {
   "cell_type": "code",
   "execution_count": 0,
   "metadata": {
    "application/vnd.databricks.v1+cell": {
     "cellMetadata": {
      "byteLimit": 2048000,
      "rowLimit": 10000
     },
     "inputWidgets": {},
     "nuid": "fe5fa581-ee6a-4f48-bf9c-f5500a16948d",
     "showTitle": false,
     "tableResultSettingsMap": {},
     "title": ""
    }
   },
   "outputs": [],
   "source": [
    "df_spark1.createOrReplaceTempView('emp')"
   ]
  },
  {
   "cell_type": "code",
   "execution_count": 0,
   "metadata": {
    "application/vnd.databricks.v1+cell": {
     "cellMetadata": {
      "byteLimit": 2048000,
      "implicitDf": true,
      "rowLimit": 10000
     },
     "inputWidgets": {},
     "nuid": "2ec01172-b9a0-46ee-82a3-5aa50c532cb4",
     "showTitle": false,
     "tableResultSettingsMap": {},
     "title": ""
    }
   },
   "outputs": [
    {
     "output_type": "display_data",
     "data": {
      "text/html": [
       "<style scoped>\n",
       "  .table-result-container {\n",
       "    max-height: 300px;\n",
       "    overflow: auto;\n",
       "  }\n",
       "  table, th, td {\n",
       "    border: 1px solid black;\n",
       "    border-collapse: collapse;\n",
       "  }\n",
       "  th, td {\n",
       "    padding: 5px;\n",
       "  }\n",
       "  th {\n",
       "    text-align: left;\n",
       "  }\n",
       "</style><div class='table-result-container'><table class='table-result'><thead style='background-color: white'><tr><th>employee_name</th><th>department</th><th>salary</th><th>Flag</th></tr></thead><tbody><tr><td>James</td><td>Sales</td><td>3000</td><td>0</td></tr><tr><td>Michael</td><td>Sales</td><td>4600</td><td>1</td></tr><tr><td>Robert</td><td>Sales</td><td>4100</td><td>1</td></tr><tr><td>Maria</td><td>Finance</td><td>3000</td><td>0</td></tr><tr><td>James</td><td>Sales</td><td>3000</td><td>0</td></tr><tr><td>Scott</td><td>Finance</td><td>3300</td><td>0</td></tr><tr><td>Jen</td><td>Finance</td><td>3900</td><td>0</td></tr><tr><td>Jeff</td><td>Marketing</td><td>3000</td><td>0</td></tr><tr><td>Kumar</td><td>Marketing</td><td>2000</td><td>0</td></tr><tr><td>Saif</td><td>Sales</td><td>4100</td><td>1</td></tr></tbody></table></div>"
      ]
     },
     "metadata": {
      "application/vnd.databricks.v1+output": {
       "addedWidgets": {},
       "aggData": [],
       "aggError": "",
       "aggOverflow": false,
       "aggSchema": [],
       "aggSeriesLimitReached": false,
       "aggType": "",
       "arguments": {},
       "columnCustomDisplayInfos": {},
       "data": [
        [
         "James",
         "Sales",
         3000,
         0
        ],
        [
         "Michael",
         "Sales",
         4600,
         1
        ],
        [
         "Robert",
         "Sales",
         4100,
         1
        ],
        [
         "Maria",
         "Finance",
         3000,
         0
        ],
        [
         "James",
         "Sales",
         3000,
         0
        ],
        [
         "Scott",
         "Finance",
         3300,
         0
        ],
        [
         "Jen",
         "Finance",
         3900,
         0
        ],
        [
         "Jeff",
         "Marketing",
         3000,
         0
        ],
        [
         "Kumar",
         "Marketing",
         2000,
         0
        ],
        [
         "Saif",
         "Sales",
         4100,
         1
        ]
       ],
       "datasetInfos": [],
       "dbfsResultPath": null,
       "isJsonSchema": true,
       "metadata": {
        "createTempViewForImplicitDf": true,
        "dataframeName": "_sqldf",
        "executionCount": 20
       },
       "overflow": false,
       "plotOptions": {
        "customPlotOptions": {},
        "displayType": "table",
        "pivotAggregation": null,
        "pivotColumns": null,
        "xColumns": null,
        "yColumns": null
       },
       "removedWidgets": [],
       "schema": [
        {
         "metadata": "{}",
         "name": "employee_name",
         "type": "\"string\""
        },
        {
         "metadata": "{}",
         "name": "department",
         "type": "\"string\""
        },
        {
         "metadata": "{}",
         "name": "salary",
         "type": "\"long\""
        },
        {
         "metadata": "{}",
         "name": "Flag",
         "type": "\"integer\""
        }
       ],
       "type": "table"
      }
     },
     "output_type": "display_data"
    }
   ],
   "source": [
    "%sql\n",
    "select * from emp;"
   ]
  },
  {
   "cell_type": "code",
   "execution_count": 0,
   "metadata": {
    "application/vnd.databricks.v1+cell": {
     "cellMetadata": {
      "byteLimit": 2048000,
      "rowLimit": 10000
     },
     "inputWidgets": {},
     "nuid": "28cf85a8-6ad3-4466-8f85-7dcd63bf3a67",
     "showTitle": false,
     "tableResultSettingsMap": {},
     "title": ""
    }
   },
   "outputs": [
    {
     "output_type": "execute_result",
     "data": {
      "text/plain": [
       "<pyspark.sql.udf.UserDefinedFunction at 0x7f2f7da60850>"
      ]
     },
     "execution_count": 22,
     "metadata": {},
     "output_type": "execute_result"
    }
   ],
   "source": [
    "spark.udf.register(name='Total_Salary',f=update_salary)"
   ]
  },
  {
   "cell_type": "code",
   "execution_count": 0,
   "metadata": {
    "application/vnd.databricks.v1+cell": {
     "cellMetadata": {
      "byteLimit": 2048000,
      "implicitDf": true,
      "rowLimit": 10000
     },
     "inputWidgets": {},
     "nuid": "9262ae7f-9a10-4156-a819-f515f70e4da2",
     "showTitle": false,
     "tableResultSettingsMap": {},
     "title": ""
    }
   },
   "outputs": [
    {
     "output_type": "display_data",
     "data": {
      "text/html": [
       "<style scoped>\n",
       "  .table-result-container {\n",
       "    max-height: 300px;\n",
       "    overflow: auto;\n",
       "  }\n",
       "  table, th, td {\n",
       "    border: 1px solid black;\n",
       "    border-collapse: collapse;\n",
       "  }\n",
       "  th, td {\n",
       "    padding: 5px;\n",
       "  }\n",
       "  th {\n",
       "    text-align: left;\n",
       "  }\n",
       "</style><div class='table-result-container'><table class='table-result'><thead style='background-color: white'><tr><th>employee_name</th><th>department</th><th>salary</th><th>Flag</th><th>tot_pay</th></tr></thead><tbody><tr><td>James</td><td>Sales</td><td>3000</td><td>0</td><td>0</td></tr><tr><td>Michael</td><td>Sales</td><td>4600</td><td>1</td><td>4600</td></tr><tr><td>Robert</td><td>Sales</td><td>4100</td><td>1</td><td>4100</td></tr><tr><td>Maria</td><td>Finance</td><td>3000</td><td>0</td><td>0</td></tr><tr><td>James</td><td>Sales</td><td>3000</td><td>0</td><td>0</td></tr><tr><td>Scott</td><td>Finance</td><td>3300</td><td>0</td><td>0</td></tr><tr><td>Jen</td><td>Finance</td><td>3900</td><td>0</td><td>0</td></tr><tr><td>Jeff</td><td>Marketing</td><td>3000</td><td>0</td><td>0</td></tr><tr><td>Kumar</td><td>Marketing</td><td>2000</td><td>0</td><td>0</td></tr><tr><td>Saif</td><td>Sales</td><td>4100</td><td>1</td><td>4100</td></tr></tbody></table></div>"
      ]
     },
     "metadata": {
      "application/vnd.databricks.v1+output": {
       "addedWidgets": {},
       "aggData": [],
       "aggError": "",
       "aggOverflow": false,
       "aggSchema": [],
       "aggSeriesLimitReached": false,
       "aggType": "",
       "arguments": {},
       "columnCustomDisplayInfos": {},
       "data": [
        [
         "James",
         "Sales",
         3000,
         0,
         0
        ],
        [
         "Michael",
         "Sales",
         4600,
         1,
         4600
        ],
        [
         "Robert",
         "Sales",
         4100,
         1,
         4100
        ],
        [
         "Maria",
         "Finance",
         3000,
         0,
         0
        ],
        [
         "James",
         "Sales",
         3000,
         0,
         0
        ],
        [
         "Scott",
         "Finance",
         3300,
         0,
         0
        ],
        [
         "Jen",
         "Finance",
         3900,
         0,
         0
        ],
        [
         "Jeff",
         "Marketing",
         3000,
         0,
         0
        ],
        [
         "Kumar",
         "Marketing",
         2000,
         0,
         0
        ],
        [
         "Saif",
         "Sales",
         4100,
         1,
         4100
        ]
       ],
       "datasetInfos": [],
       "dbfsResultPath": null,
       "isJsonSchema": true,
       "metadata": {
        "createTempViewForImplicitDf": true,
        "dataframeName": "_sqldf",
        "executionCount": 23
       },
       "overflow": false,
       "plotOptions": {
        "customPlotOptions": {},
        "displayType": "table",
        "pivotAggregation": null,
        "pivotColumns": null,
        "xColumns": null,
        "yColumns": null
       },
       "removedWidgets": [],
       "schema": [
        {
         "metadata": "{}",
         "name": "employee_name",
         "type": "\"string\""
        },
        {
         "metadata": "{}",
         "name": "department",
         "type": "\"string\""
        },
        {
         "metadata": "{}",
         "name": "salary",
         "type": "\"long\""
        },
        {
         "metadata": "{}",
         "name": "Flag",
         "type": "\"integer\""
        },
        {
         "metadata": "{}",
         "name": "tot_pay",
         "type": "\"integer\""
        }
       ],
       "type": "table"
      }
     },
     "output_type": "display_data"
    }
   ],
   "source": [
    "%sql\n",
    "select *,Total_Salary(salary,flag) as tot_pay from emp;"
   ]
  },
  {
   "cell_type": "code",
   "execution_count": 0,
   "metadata": {
    "application/vnd.databricks.v1+cell": {
     "cellMetadata": {
      "byteLimit": 2048000,
      "rowLimit": 10000
     },
     "inputWidgets": {},
     "nuid": "1aedacee-108a-49f3-b36f-62c02e9a1fee",
     "showTitle": false,
     "tableResultSettingsMap": {},
     "title": ""
    }
   },
   "outputs": [
    {
     "output_type": "stream",
     "name": "stdout",
     "output_type": "stream",
     "text": [
      "+-------------+----------+------+\n|employee_name|department|salary|\n+-------------+----------+------+\n|        James|     Sales|  3000|\n|      Michael|     Sales|  4600|\n|       Robert|     Sales|  4100|\n|        Maria|   Finance|  3000|\n|        James|     Sales|  3000|\n|        Scott|   Finance|  3300|\n|          Jen|   Finance|  3900|\n|         Jeff| Marketing|  3000|\n|        Kumar| Marketing|  2000|\n|         Saif|     Sales|  4100|\n+-------------+----------+------+\n\n"
     ]
    }
   ],
   "source": [
    "df.show()"
   ]
  },
  {
   "cell_type": "code",
   "execution_count": 0,
   "metadata": {
    "application/vnd.databricks.v1+cell": {
     "cellMetadata": {
      "byteLimit": 2048000,
      "rowLimit": 10000
     },
     "inputWidgets": {},
     "nuid": "211c9a38-dac0-447d-87a8-798ca9adaa79",
     "showTitle": false,
     "tableResultSettingsMap": {},
     "title": ""
    }
   },
   "outputs": [],
   "source": [
    "from pyspark.sql import Row"
   ]
  },
  {
   "cell_type": "code",
   "execution_count": 0,
   "metadata": {
    "application/vnd.databricks.v1+cell": {
     "cellMetadata": {
      "byteLimit": 2048000,
      "rowLimit": 10000
     },
     "inputWidgets": {},
     "nuid": "215d0211-00be-4ba0-aa61-f8d5e82916ca",
     "showTitle": false,
     "tableResultSettingsMap": {},
     "title": ""
    }
   },
   "outputs": [],
   "source": [
    "from pyspark.sql.functions import col,count,min,max,avg,sum"
   ]
  },
  {
   "cell_type": "code",
   "execution_count": 0,
   "metadata": {
    "application/vnd.databricks.v1+cell": {
     "cellMetadata": {
      "byteLimit": 2048000,
      "rowLimit": 10000
     },
     "inputWidgets": {},
     "nuid": "f1be7ea4-944d-46d4-b519-938d43df13ce",
     "showTitle": false,
     "tableResultSettingsMap": {},
     "title": ""
    }
   },
   "outputs": [
    {
     "output_type": "stream",
     "name": "stdout",
     "output_type": "stream",
     "text": [
      "+-------+-----------+------+------+\n|   name|       dept|   sex|salary|\n+-------+-----------+------+------+\n|  Alice|         HR|Female| 50000|\n|    Bob|Engineering|  Male| 60000|\n|Charlie|         HR|  Male| 55000|\n|  Diana|  Marketing|Female| 45000|\n|    Eve|Engineering|Female| 70000|\n|  Frank|  Marketing|  Male| 47000|\n|  Grace|Engineering|Female| 65000|\n|   Hank|         HR|  Male| 53000|\n|    Ivy|  Marketing|Female| 48000|\n|   Jack|Engineering|  Male| 62000|\n+-------+-----------+------+------+\n\n"
     ]
    }
   ],
   "source": [
    "# Define data for the DataFrame\n",
    "data = [\n",
    "    Row(name=\"Alice\", dept=\"HR\", sex=\"Female\", salary=50000),\n",
    "    Row(name=\"Bob\", dept=\"Engineering\", sex=\"Male\", salary=60000),\n",
    "    Row(name=\"Charlie\", dept=\"HR\", sex=\"Male\", salary=55000),\n",
    "    Row(name=\"Diana\", dept=\"Marketing\", sex=\"Female\", salary=45000),\n",
    "    Row(name=\"Eve\", dept=\"Engineering\", sex=\"Female\", salary=70000),\n",
    "    Row(name=\"Frank\", dept=\"Marketing\", sex=\"Male\", salary=47000),\n",
    "    Row(name=\"Grace\", dept=\"Engineering\", sex=\"Female\", salary=65000),\n",
    "    Row(name=\"Hank\", dept=\"HR\", sex=\"Male\", salary=53000),\n",
    "    Row(name=\"Ivy\", dept=\"Marketing\", sex=\"Female\", salary=48000),\n",
    "    Row(name=\"Jack\", dept=\"Engineering\", sex=\"Male\", salary=62000)\n",
    "]\n",
    "\n",
    "# Create DataFrame\n",
    "df_emp = spark.createDataFrame(data)\n",
    "\n",
    "# Show DataFrame\n",
    "df_emp.show()"
   ]
  },
  {
   "cell_type": "code",
   "execution_count": 0,
   "metadata": {
    "application/vnd.databricks.v1+cell": {
     "cellMetadata": {
      "byteLimit": 2048000,
      "rowLimit": 10000
     },
     "inputWidgets": {},
     "nuid": "7a793a29-f3f7-4000-a6a7-459dcb8ddb0e",
     "showTitle": false,
     "tableResultSettingsMap": {},
     "title": ""
    }
   },
   "outputs": [
    {
     "output_type": "stream",
     "name": "stdout",
     "output_type": "stream",
     "text": [
      "+-----------+------+----+\n|       Dept|Female|Male|\n+-----------+------+----+\n|Engineering|     2|   2|\n|         HR|     1|   2|\n|  Marketing|     2|   1|\n+-----------+------+----+\n\n"
     ]
    }
   ],
   "source": [
    "df_emp.groupBy('Dept').pivot('sex').count().show()"
   ]
  },
  {
   "cell_type": "code",
   "execution_count": 0,
   "metadata": {
    "application/vnd.databricks.v1+cell": {
     "cellMetadata": {
      "byteLimit": 2048000,
      "rowLimit": 10000
     },
     "inputWidgets": {},
     "nuid": "a6ecea8e-e3e7-4f26-ab9e-51505afb486a",
     "showTitle": false,
     "tableResultSettingsMap": {},
     "title": ""
    }
   },
   "outputs": [
    {
     "output_type": "stream",
     "name": "stdout",
     "output_type": "stream",
     "text": [
      "+-----------+------+------+\n|       Dept|Female|  Male|\n+-----------+------+------+\n|Engineering|135000|122000|\n|         HR| 50000|108000|\n|  Marketing| 93000| 47000|\n+-----------+------+------+\n\n"
     ]
    }
   ],
   "source": [
    "df_emp.groupBy('Dept').pivot('sex').sum('Salary').show()"
   ]
  },
  {
   "cell_type": "code",
   "execution_count": 0,
   "metadata": {
    "application/vnd.databricks.v1+cell": {
     "cellMetadata": {
      "byteLimit": 2048000,
      "rowLimit": 10000
     },
     "inputWidgets": {},
     "nuid": "d9ff3879-9787-49eb-b624-29587a1b557b",
     "showTitle": false,
     "tableResultSettingsMap": {},
     "title": ""
    }
   },
   "outputs": [],
   "source": [
    "from pyspark.sql.window import Window"
   ]
  },
  {
   "cell_type": "code",
   "execution_count": 0,
   "metadata": {
    "application/vnd.databricks.v1+cell": {
     "cellMetadata": {
      "byteLimit": 2048000,
      "rowLimit": 10000
     },
     "inputWidgets": {},
     "nuid": "4477d6dc-bfa2-4ee5-ba8e-3eb53ce1fafb",
     "showTitle": false,
     "tableResultSettingsMap": {},
     "title": ""
    }
   },
   "outputs": [],
   "source": [
    "from pyspark.sql.functions import rank,dense_rank,row_number"
   ]
  },
  {
   "cell_type": "code",
   "execution_count": 0,
   "metadata": {
    "application/vnd.databricks.v1+cell": {
     "cellMetadata": {
      "byteLimit": 2048000,
      "rowLimit": 10000
     },
     "inputWidgets": {},
     "nuid": "4c79cf83-d8fe-4402-b510-0908f9bb77d8",
     "showTitle": false,
     "tableResultSettingsMap": {},
     "title": ""
    }
   },
   "outputs": [
    {
     "output_type": "stream",
     "name": "stdout",
     "output_type": "stream",
     "text": [
      "+-------+-----------+------+------+------+\n|   name|       dept|   sex|salary|row_no|\n+-------+-----------+------+------+------+\n|    Bob|Engineering|  Male| 60000|     1|\n|   Jack|Engineering|  Male| 62000|     2|\n|  Grace|Engineering|Female| 65000|     3|\n|    Eve|Engineering|Female| 70000|     4|\n|  Alice|         HR|Female| 50000|     1|\n|   Hank|         HR|  Male| 53000|     2|\n|Charlie|         HR|  Male| 55000|     3|\n|  Diana|  Marketing|Female| 45000|     1|\n|  Frank|  Marketing|  Male| 47000|     2|\n|    Ivy|  Marketing|Female| 48000|     3|\n+-------+-----------+------+------+------+\n\n"
     ]
    }
   ],
   "source": [
    "df_emp.withColumn('row_no',row_number().over(Window.partitionBy('Dept').orderBy('Salary'))).show()"
   ]
  },
  {
   "cell_type": "code",
   "execution_count": 0,
   "metadata": {
    "application/vnd.databricks.v1+cell": {
     "cellMetadata": {
      "byteLimit": 2048000,
      "rowLimit": 10000
     },
     "inputWidgets": {},
     "nuid": "101bab13-70d4-47ea-8741-ad1c3727e720",
     "showTitle": false,
     "tableResultSettingsMap": {},
     "title": ""
    }
   },
   "outputs": [
    {
     "output_type": "stream",
     "name": "stdout",
     "output_type": "stream",
     "text": [
      "+-----+-----------+----+------+------+\n| name|       dept| sex|salary|row_no|\n+-----+-----------+----+------+------+\n| Jack|Engineering|Male| 62000|     2|\n| Hank|         HR|Male| 53000|     2|\n|Frank|  Marketing|Male| 47000|     2|\n+-----+-----------+----+------+------+\n\n"
     ]
    }
   ],
   "source": [
    "df_emp.withColumn('row_no',row_number().over(Window.partitionBy('Dept').orderBy('Salary'))).where(col('row_no')==2).show()"
   ]
  },
  {
   "cell_type": "code",
   "execution_count": 0,
   "metadata": {
    "application/vnd.databricks.v1+cell": {
     "cellMetadata": {
      "byteLimit": 2048000,
      "rowLimit": 10000
     },
     "inputWidgets": {},
     "nuid": "f319bcba-822f-48fe-80b3-a934c2ef1619",
     "showTitle": false,
     "tableResultSettingsMap": {},
     "title": ""
    }
   },
   "outputs": [],
   "source": [
    "df_pivoted=df_emp.groupBy('Dept').pivot('sex').count()"
   ]
  },
  {
   "cell_type": "code",
   "execution_count": 0,
   "metadata": {
    "application/vnd.databricks.v1+cell": {
     "cellMetadata": {
      "byteLimit": 2048000,
      "rowLimit": 10000
     },
     "inputWidgets": {},
     "nuid": "872d851d-5140-4fa7-94ff-2c4a02a6fb6a",
     "showTitle": false,
     "tableResultSettingsMap": {},
     "title": ""
    }
   },
   "outputs": [
    {
     "output_type": "stream",
     "name": "stdout",
     "output_type": "stream",
     "text": [
      "+-----------+------+----+\n|       Dept|Female|Male|\n+-----------+------+----+\n|Engineering|     2|   2|\n|         HR|     1|   2|\n|  Marketing|     2|   1|\n+-----------+------+----+\n\n"
     ]
    }
   ],
   "source": [
    "df_pivoted.show()"
   ]
  },
  {
   "cell_type": "code",
   "execution_count": 0,
   "metadata": {
    "application/vnd.databricks.v1+cell": {
     "cellMetadata": {
      "byteLimit": 2048000,
      "rowLimit": 10000
     },
     "inputWidgets": {},
     "nuid": "9a9fe54a-ea21-42c4-9506-de00a0849a17",
     "showTitle": false,
     "tableResultSettingsMap": {},
     "title": ""
    }
   },
   "outputs": [],
   "source": [
    "from pyspark.sql.functions import expr"
   ]
  },
  {
   "cell_type": "code",
   "execution_count": 0,
   "metadata": {
    "application/vnd.databricks.v1+cell": {
     "cellMetadata": {
      "byteLimit": 2048000,
      "rowLimit": 10000
     },
     "inputWidgets": {},
     "nuid": "acf43ddc-0d36-401a-b44c-fbca575a9fee",
     "showTitle": false,
     "tableResultSettingsMap": {},
     "title": ""
    }
   },
   "outputs": [
    {
     "output_type": "stream",
     "name": "stdout",
     "output_type": "stream",
     "text": [
      "+-----------+------+-----+\n|       Dept|gender|count|\n+-----------+------+-----+\n|Engineering|  male|    2|\n|Engineering|female|    2|\n|         HR|  male|    2|\n|         HR|female|    1|\n|  Marketing|  male|    1|\n|  Marketing|female|    2|\n+-----------+------+-----+\n\n"
     ]
    }
   ],
   "source": [
    "df_pivoted.select('Dept',expr(\"stack(2,'male',male,'female',female) as (gender,count)\")).show()"
   ]
  },
  {
   "cell_type": "markdown",
   "metadata": {
    "application/vnd.databricks.v1+cell": {
     "cellMetadata": {},
     "inputWidgets": {},
     "nuid": "330d46df-8ca9-46fb-b5c1-c7cd7e48922c",
     "showTitle": false,
     "tableResultSettingsMap": {},
     "title": ""
    }
   },
   "source": [
    "## Fillna, na.fill"
   ]
  },
  {
   "cell_type": "code",
   "execution_count": 0,
   "metadata": {
    "application/vnd.databricks.v1+cell": {
     "cellMetadata": {
      "byteLimit": 2048000,
      "rowLimit": 10000
     },
     "inputWidgets": {},
     "nuid": "334cca0a-491d-4d7b-a7e5-afc59c1ea12b",
     "showTitle": false,
     "tableResultSettingsMap": {},
     "title": ""
    }
   },
   "outputs": [
    {
     "output_type": "stream",
     "name": "stdout",
     "output_type": "stream",
     "text": [
      "+-------+----+------+\n|   name| age|salary|\n+-------+----+------+\n|  Alice|  25| 50000|\n|   null|  30|  null|\n|Charlie|null| 55000|\n|  Diana|  28|  null|\n|   null|null|  null|\n+-------+----+------+\n\n"
     ]
    }
   ],
   "source": [
    "data = [\n",
    "    Row(name=\"Alice\", age=25, salary=50000),\n",
    "    Row(name=None, age=30, salary=None),  # Null value for name and salary\n",
    "    Row(name=\"Charlie\", age=None, salary=55000),  # Null value for age\n",
    "    Row(name=\"Diana\", age=28, salary=None),  # Null value for salary\n",
    "    Row(name=None, age=None, salary=None)  # Null value for all columns\n",
    "]\n",
    "\n",
    "# Create DataFrame\n",
    "df_1 = spark.createDataFrame(data)\n",
    "\n",
    "# Show DataFrame\n",
    "df_1.show()"
   ]
  },
  {
   "cell_type": "code",
   "execution_count": 0,
   "metadata": {
    "application/vnd.databricks.v1+cell": {
     "cellMetadata": {
      "byteLimit": 2048000,
      "rowLimit": 10000
     },
     "inputWidgets": {},
     "nuid": "f2a5d90e-7f51-4660-855f-852af510e180",
     "showTitle": false,
     "tableResultSettingsMap": {},
     "title": ""
    }
   },
   "outputs": [
    {
     "output_type": "stream",
     "name": "stdout",
     "output_type": "stream",
     "text": [
      "+-------+----+------+\n|   name| age|salary|\n+-------+----+------+\n|  Alice|  25| 50000|\n|unknown|  30|  null|\n|Charlie|null| 55000|\n|  Diana|  28|  null|\n|unknown|null|  null|\n+-------+----+------+\n\n"
     ]
    }
   ],
   "source": [
    "df_1.fillna(\"unknown\").show()"
   ]
  },
  {
   "cell_type": "code",
   "execution_count": 0,
   "metadata": {
    "application/vnd.databricks.v1+cell": {
     "cellMetadata": {
      "byteLimit": 2048000,
      "rowLimit": 10000
     },
     "inputWidgets": {},
     "nuid": "cc651c51-fd7e-41eb-9eb7-063af71cbb3e",
     "showTitle": false,
     "tableResultSettingsMap": {},
     "title": ""
    }
   },
   "outputs": [
    {
     "output_type": "stream",
     "name": "stdout",
     "output_type": "stream",
     "text": [
      "+-------+---+------+\n|   name|age|salary|\n+-------+---+------+\n|  Alice| 25| 50000|\n|   null| 30|   100|\n|Charlie|100| 55000|\n|  Diana| 28|   100|\n|   null|100|   100|\n+-------+---+------+\n\n"
     ]
    }
   ],
   "source": [
    "df_1.fillna(100).show()"
   ]
  },
  {
   "cell_type": "code",
   "execution_count": 0,
   "metadata": {
    "application/vnd.databricks.v1+cell": {
     "cellMetadata": {
      "byteLimit": 2048000,
      "rowLimit": 10000
     },
     "inputWidgets": {},
     "nuid": "8b6243f8-73b9-4ff1-83cd-68553e66a67d",
     "showTitle": false,
     "tableResultSettingsMap": {},
     "title": ""
    }
   },
   "outputs": [
    {
     "output_type": "stream",
     "name": "stdout",
     "output_type": "stream",
     "text": [
      "+-------+----+------+\n|   name| age|salary|\n+-------+----+------+\n|  Alice|  25| 50000|\n|unknown|  30|  null|\n|Charlie|null| 55000|\n|  Diana|  28|  null|\n|unknown|null|  null|\n+-------+----+------+\n\n"
     ]
    }
   ],
   "source": [
    "df_1.na.fill('unknown',['name']).show()"
   ]
  },
  {
   "cell_type": "code",
   "execution_count": 0,
   "metadata": {
    "application/vnd.databricks.v1+cell": {
     "cellMetadata": {
      "byteLimit": 2048000,
      "rowLimit": 10000
     },
     "inputWidgets": {},
     "nuid": "38326cee-f5a7-4843-b9b8-da6b3610803a",
     "showTitle": false,
     "tableResultSettingsMap": {},
     "title": ""
    }
   },
   "outputs": [
    {
     "output_type": "stream",
     "name": "stdout",
     "output_type": "stream",
     "text": [
      "+-------+---+------+\n|   name|age|salary|\n+-------+---+------+\n|  Alice| 25| 50000|\n| unkown| 30|100000|\n|Charlie| 40| 55000|\n|  Diana| 28|100000|\n| unkown| 40|100000|\n+-------+---+------+\n\n"
     ]
    }
   ],
   "source": [
    "df_1.fillna({\n",
    "    'name':'unkown',\n",
    "    'age':40,\n",
    "    'salary':100000\n",
    "}).show()"
   ]
  },
  {
   "cell_type": "markdown",
   "metadata": {
    "application/vnd.databricks.v1+cell": {
     "cellMetadata": {},
     "inputWidgets": {},
     "nuid": "0ad17f5b-de76-4b9f-83b1-0486a7798c7d",
     "showTitle": false,
     "tableResultSettingsMap": {},
     "title": ""
    }
   },
   "source": [
    "## Sample Function"
   ]
  },
  {
   "cell_type": "code",
   "execution_count": 0,
   "metadata": {
    "application/vnd.databricks.v1+cell": {
     "cellMetadata": {
      "byteLimit": 2048000,
      "rowLimit": 10000
     },
     "inputWidgets": {},
     "nuid": "ea1ba621-efac-44a4-91f1-e1aa78e32d73",
     "showTitle": false,
     "tableResultSettingsMap": {},
     "title": ""
    }
   },
   "outputs": [],
   "source": [
    "df_range=spark.range(1,101)"
   ]
  },
  {
   "cell_type": "code",
   "execution_count": 0,
   "metadata": {
    "application/vnd.databricks.v1+cell": {
     "cellMetadata": {
      "byteLimit": 2048000,
      "rowLimit": 10000
     },
     "inputWidgets": {},
     "nuid": "b9a6dd17-0bc7-471e-9919-7f5ffc82e8bd",
     "showTitle": false,
     "tableResultSettingsMap": {},
     "title": ""
    }
   },
   "outputs": [
    {
     "output_type": "display_data",
     "data": {
      "text/html": [
       "<style scoped>\n",
       "  .table-result-container {\n",
       "    max-height: 300px;\n",
       "    overflow: auto;\n",
       "  }\n",
       "  table, th, td {\n",
       "    border: 1px solid black;\n",
       "    border-collapse: collapse;\n",
       "  }\n",
       "  th, td {\n",
       "    padding: 5px;\n",
       "  }\n",
       "  th {\n",
       "    text-align: left;\n",
       "  }\n",
       "</style><div class='table-result-container'><table class='table-result'><thead style='background-color: white'><tr><th>id</th></tr></thead><tbody><tr><td>1</td></tr><tr><td>2</td></tr><tr><td>3</td></tr><tr><td>4</td></tr><tr><td>5</td></tr><tr><td>6</td></tr><tr><td>7</td></tr><tr><td>8</td></tr><tr><td>9</td></tr><tr><td>10</td></tr><tr><td>11</td></tr><tr><td>12</td></tr><tr><td>13</td></tr><tr><td>14</td></tr><tr><td>15</td></tr><tr><td>16</td></tr><tr><td>17</td></tr><tr><td>18</td></tr><tr><td>19</td></tr><tr><td>20</td></tr><tr><td>21</td></tr><tr><td>22</td></tr><tr><td>23</td></tr><tr><td>24</td></tr><tr><td>25</td></tr><tr><td>26</td></tr><tr><td>27</td></tr><tr><td>28</td></tr><tr><td>29</td></tr><tr><td>30</td></tr><tr><td>31</td></tr><tr><td>32</td></tr><tr><td>33</td></tr><tr><td>34</td></tr><tr><td>35</td></tr><tr><td>36</td></tr><tr><td>37</td></tr><tr><td>38</td></tr><tr><td>39</td></tr><tr><td>40</td></tr><tr><td>41</td></tr><tr><td>42</td></tr><tr><td>43</td></tr><tr><td>44</td></tr><tr><td>45</td></tr><tr><td>46</td></tr><tr><td>47</td></tr><tr><td>48</td></tr><tr><td>49</td></tr><tr><td>50</td></tr><tr><td>51</td></tr><tr><td>52</td></tr><tr><td>53</td></tr><tr><td>54</td></tr><tr><td>55</td></tr><tr><td>56</td></tr><tr><td>57</td></tr><tr><td>58</td></tr><tr><td>59</td></tr><tr><td>60</td></tr><tr><td>61</td></tr><tr><td>62</td></tr><tr><td>63</td></tr><tr><td>64</td></tr><tr><td>65</td></tr><tr><td>66</td></tr><tr><td>67</td></tr><tr><td>68</td></tr><tr><td>69</td></tr><tr><td>70</td></tr><tr><td>71</td></tr><tr><td>72</td></tr><tr><td>73</td></tr><tr><td>74</td></tr><tr><td>75</td></tr><tr><td>76</td></tr><tr><td>77</td></tr><tr><td>78</td></tr><tr><td>79</td></tr><tr><td>80</td></tr><tr><td>81</td></tr><tr><td>82</td></tr><tr><td>83</td></tr><tr><td>84</td></tr><tr><td>85</td></tr><tr><td>86</td></tr><tr><td>87</td></tr><tr><td>88</td></tr><tr><td>89</td></tr><tr><td>90</td></tr><tr><td>91</td></tr><tr><td>92</td></tr><tr><td>93</td></tr><tr><td>94</td></tr><tr><td>95</td></tr><tr><td>96</td></tr><tr><td>97</td></tr><tr><td>98</td></tr><tr><td>99</td></tr><tr><td>100</td></tr></tbody></table></div>"
      ]
     },
     "metadata": {
      "application/vnd.databricks.v1+output": {
       "addedWidgets": {},
       "aggData": [],
       "aggError": "",
       "aggOverflow": false,
       "aggSchema": [],
       "aggSeriesLimitReached": false,
       "aggType": "",
       "arguments": {},
       "columnCustomDisplayInfos": {},
       "data": [
        [
         1
        ],
        [
         2
        ],
        [
         3
        ],
        [
         4
        ],
        [
         5
        ],
        [
         6
        ],
        [
         7
        ],
        [
         8
        ],
        [
         9
        ],
        [
         10
        ],
        [
         11
        ],
        [
         12
        ],
        [
         13
        ],
        [
         14
        ],
        [
         15
        ],
        [
         16
        ],
        [
         17
        ],
        [
         18
        ],
        [
         19
        ],
        [
         20
        ],
        [
         21
        ],
        [
         22
        ],
        [
         23
        ],
        [
         24
        ],
        [
         25
        ],
        [
         26
        ],
        [
         27
        ],
        [
         28
        ],
        [
         29
        ],
        [
         30
        ],
        [
         31
        ],
        [
         32
        ],
        [
         33
        ],
        [
         34
        ],
        [
         35
        ],
        [
         36
        ],
        [
         37
        ],
        [
         38
        ],
        [
         39
        ],
        [
         40
        ],
        [
         41
        ],
        [
         42
        ],
        [
         43
        ],
        [
         44
        ],
        [
         45
        ],
        [
         46
        ],
        [
         47
        ],
        [
         48
        ],
        [
         49
        ],
        [
         50
        ],
        [
         51
        ],
        [
         52
        ],
        [
         53
        ],
        [
         54
        ],
        [
         55
        ],
        [
         56
        ],
        [
         57
        ],
        [
         58
        ],
        [
         59
        ],
        [
         60
        ],
        [
         61
        ],
        [
         62
        ],
        [
         63
        ],
        [
         64
        ],
        [
         65
        ],
        [
         66
        ],
        [
         67
        ],
        [
         68
        ],
        [
         69
        ],
        [
         70
        ],
        [
         71
        ],
        [
         72
        ],
        [
         73
        ],
        [
         74
        ],
        [
         75
        ],
        [
         76
        ],
        [
         77
        ],
        [
         78
        ],
        [
         79
        ],
        [
         80
        ],
        [
         81
        ],
        [
         82
        ],
        [
         83
        ],
        [
         84
        ],
        [
         85
        ],
        [
         86
        ],
        [
         87
        ],
        [
         88
        ],
        [
         89
        ],
        [
         90
        ],
        [
         91
        ],
        [
         92
        ],
        [
         93
        ],
        [
         94
        ],
        [
         95
        ],
        [
         96
        ],
        [
         97
        ],
        [
         98
        ],
        [
         99
        ],
        [
         100
        ]
       ],
       "datasetInfos": [],
       "dbfsResultPath": null,
       "isJsonSchema": true,
       "metadata": {},
       "overflow": false,
       "plotOptions": {
        "customPlotOptions": {},
        "displayType": "table",
        "pivotAggregation": null,
        "pivotColumns": null,
        "xColumns": null,
        "yColumns": null
       },
       "removedWidgets": [],
       "schema": [
        {
         "metadata": "{}",
         "name": "id",
         "type": "\"long\""
        }
       ],
       "type": "table"
      }
     },
     "output_type": "display_data"
    }
   ],
   "source": [
    "display(df_range)"
   ]
  },
  {
   "cell_type": "code",
   "execution_count": 0,
   "metadata": {
    "application/vnd.databricks.v1+cell": {
     "cellMetadata": {
      "byteLimit": 2048000,
      "rowLimit": 10000
     },
     "inputWidgets": {},
     "nuid": "ff45b432-0fd5-4f37-8367-fe7b052505e7",
     "showTitle": false,
     "tableResultSettingsMap": {},
     "title": ""
    }
   },
   "outputs": [],
   "source": [
    "df_r1=df_range.sample(fraction=.1)"
   ]
  },
  {
   "cell_type": "code",
   "execution_count": 0,
   "metadata": {
    "application/vnd.databricks.v1+cell": {
     "cellMetadata": {
      "byteLimit": 2048000,
      "rowLimit": 10000
     },
     "inputWidgets": {},
     "nuid": "1d42eea3-4a12-4969-b4c4-01cbb30d675c",
     "showTitle": false,
     "tableResultSettingsMap": {},
     "title": ""
    }
   },
   "outputs": [
    {
     "output_type": "display_data",
     "data": {
      "text/html": [
       "<style scoped>\n",
       "  .table-result-container {\n",
       "    max-height: 300px;\n",
       "    overflow: auto;\n",
       "  }\n",
       "  table, th, td {\n",
       "    border: 1px solid black;\n",
       "    border-collapse: collapse;\n",
       "  }\n",
       "  th, td {\n",
       "    padding: 5px;\n",
       "  }\n",
       "  th {\n",
       "    text-align: left;\n",
       "  }\n",
       "</style><div class='table-result-container'><table class='table-result'><thead style='background-color: white'><tr><th>id</th></tr></thead><tbody><tr><td>5</td></tr><tr><td>15</td></tr><tr><td>17</td></tr><tr><td>25</td></tr><tr><td>58</td></tr><tr><td>70</td></tr><tr><td>78</td></tr><tr><td>79</td></tr><tr><td>80</td></tr><tr><td>87</td></tr><tr><td>98</td></tr><tr><td>100</td></tr></tbody></table></div>"
      ]
     },
     "metadata": {
      "application/vnd.databricks.v1+output": {
       "addedWidgets": {},
       "aggData": [],
       "aggError": "",
       "aggOverflow": false,
       "aggSchema": [],
       "aggSeriesLimitReached": false,
       "aggType": "",
       "arguments": {},
       "columnCustomDisplayInfos": {},
       "data": [
        [
         5
        ],
        [
         15
        ],
        [
         17
        ],
        [
         25
        ],
        [
         58
        ],
        [
         70
        ],
        [
         78
        ],
        [
         79
        ],
        [
         80
        ],
        [
         87
        ],
        [
         98
        ],
        [
         100
        ]
       ],
       "datasetInfos": [],
       "dbfsResultPath": null,
       "isJsonSchema": true,
       "metadata": {},
       "overflow": false,
       "plotOptions": {
        "customPlotOptions": {},
        "displayType": "table",
        "pivotAggregation": null,
        "pivotColumns": null,
        "xColumns": null,
        "yColumns": null
       },
       "removedWidgets": [],
       "schema": [
        {
         "metadata": "{}",
         "name": "id",
         "type": "\"long\""
        }
       ],
       "type": "table"
      }
     },
     "output_type": "display_data"
    }
   ],
   "source": [
    "display(df_r1)"
   ]
  },
  {
   "cell_type": "code",
   "execution_count": 0,
   "metadata": {
    "application/vnd.databricks.v1+cell": {
     "cellMetadata": {},
     "inputWidgets": {},
     "nuid": "c2428663-8c42-4074-bed6-32119cf47f58",
     "showTitle": false,
     "tableResultSettingsMap": {},
     "title": ""
    }
   },
   "outputs": [],
   "source": []
  }
 ],
 "metadata": {
  "application/vnd.databricks.v1+notebook": {
   "dashboards": [],
   "environmentMetadata": null,
   "language": "python",
   "notebookMetadata": {
    "mostRecentlyExecutedCommandWithImplicitDF": {
     "commandId": 1562750815101998,
     "dataframes": [
      "_sqldf"
     ]
    },
    "pythonIndentUnit": 4
   },
   "notebookName": "UDF Pivot FillNa 2024-10-19",
   "widgets": {}
  }
 },
 "nbformat": 4,
 "nbformat_minor": 0
}
